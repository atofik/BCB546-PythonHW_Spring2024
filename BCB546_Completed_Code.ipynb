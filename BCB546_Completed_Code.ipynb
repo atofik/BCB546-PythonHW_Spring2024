{
 "cells": [
  {
   "cell_type": "markdown",
   "id": "9795c21f",
   "metadata": {},
   "source": [
    "# Packages Requiered"
   ]
  },
  {
   "cell_type": "code",
   "execution_count": 1,
   "id": "32d2f8d7",
   "metadata": {},
   "outputs": [],
   "source": [
    "import Bio\n",
    "import pandas as pd"
   ]
  },
  {
   "cell_type": "code",
   "execution_count": 2,
   "id": "663323a5",
   "metadata": {},
   "outputs": [],
   "source": [
    "#importing packages needed to run codes\n",
    "from Bio import SeqIO\n",
    "from Bio.Data import CodonTable\n",
    "from Bio.Seq import Seq\n",
    "from Bio.SeqUtils.ProtParam import ProteinAnalysis\n",
    "import pandas as pd\n",
    "import matplotlib.pyplot as plt\n",
    "import seaborn as sns\n",
    "from Bio.SeqUtils.ProtParam import ProteinAnalysis\n"
   ]
  },
  {
   "cell_type": "markdown",
   "id": "cd1853db",
   "metadata": {},
   "source": [
    "# References:"
   ]
  },
  {
   "cell_type": "markdown",
   "id": "9be52815",
   "metadata": {},
   "source": [
    "1. https://biopython.org/docs/1.76/api/Bio.SeqIO.html\n",
    "2. https://matplotlib.org/stable/users/explain/colors/colormap-manipulation.html#sphx-glr-users-explain-colors-colormap-manipulation-py\n",
    "3. https://biopython.org/docs/1.76/api/Bio.SeqUtils.ProtParam.html\n",
    "4. https://animaldiversity.org/accounts/Eudyptula_minor/\n"
   ]
  },
  {
   "cell_type": "markdown",
   "id": "79682f9c",
   "metadata": {},
   "source": [
    "# Functions"
   ]
  },
  {
   "cell_type": "markdown",
   "id": "6070273d",
   "metadata": {},
   "source": [
    "1. Here Dr.X define the function to get the sequences "
   ]
  },
  {
   "cell_type": "code",
   "execution_count": 3,
   "id": "ad13e1bb",
   "metadata": {},
   "outputs": [],
   "source": [
    "\n",
    "def get_sequences_from_file(fasta_fn): #define new function mentioned above\n",
    "    sequence_data_dict = {} #create an empty dictionary for sequence data\n",
    "    for record in SeqIO.parse(fasta_fn, \"fasta\"): #for loop to identify sequences within .fasta file for each record \n",
    "        description = record.description.split() #assign function to split strings to variable\n",
    "        species_name = description[1] + \" \" + description[2] #create species name from .fasta file\n",
    "        sequence_data_dict[species_name] = record.seq #assign sequence to corresponding species name\n",
    "    return(sequence_data_dict) #return dictionary"
   ]
  },
  {
   "cell_type": "code",
   "execution_count": 4,
   "id": "968f6cd8",
   "metadata": {},
   "outputs": [
    {
     "data": {
      "text/plain": [
       "{'Aptenodytes forsteri': Seq('ATGGCCCCAAATCTCCGAAAATCCCATCCCCTCCTAAAAATAATTAATAACTCC...TAA'),\n",
       " 'Aptenodytes patagonicus': Seq('ATGGCCCCAAACCTCCGAAAATCCCATCCTCTCCTAAAAATAATTAATAACTCC...TAA'),\n",
       " 'Eudyptes chrysocome': Seq('ATGGCCCCCAACCTCCGAAAATCCCACCCCCTCCTAAAAACAATCAATAACTCC...TAA'),\n",
       " 'Eudyptes chrysolophus': Seq('ATGGCCCCCAACCTCCGAAAATCCCACCCCCTCCTAAAAACAATCAATAACTCC...TAA'),\n",
       " 'Eudyptes sclateri': Seq('ATGGCCCCCAACCTCCGAAAATCCCACCCCCTCCTAAAAACAATCAATAACTCC...TAA'),\n",
       " 'Eudyptula minor': Seq('ATGGCCCCCAACCTCCGAAAATCTCACCCCCTCCTAAAAATAATCAACAACTCT...TAA'),\n",
       " 'Pygoscelis adeliae': Seq('ATGGCCCCCAACCTCCGAAAATCCCACCCTCTCCTAAAAATAATTAACAACTCC...TAA'),\n",
       " 'Pygoscelis antarctica': Seq('ATGGCCCCCAACCTCCGAAAATCCCACCCTCTCCTAAAAATAATCAACAACTCC...TAG'),\n",
       " 'Pygoscelis papua': Seq('ATGGCCCCCAACCTTCGAAAATCCCACCCTCTCCTAAAAATAATCAACAAATCC...TAG'),\n",
       " 'Spheniscus demersus': Seq('ATGGCCCCCAACCTCCGAAAATCCCACCCTCTCCTAAAAACAATCAACAACTCC...TAA'),\n",
       " 'Spheniscus humboldti': Seq('ATGGCCCCCAACCTCCGAAAATCCCACCCTCTCCTAAAAACAATCAACAACTCC...TAA'),\n",
       " 'Spheniscus magellanicus': Seq('ATGGCCCCCAACCTCCGAAAATCCCACCCTCTCCTAAAAACAATCAACAACTCC...TAA')}"
      ]
     },
     "execution_count": 4,
     "metadata": {},
     "output_type": "execute_result"
    }
   ],
   "source": [
    "res = get_sequences_from_file(\"penguins_cytb.fasta\")\n",
    "res"
   ]
  },
  {
   "cell_type": "markdown",
   "id": "f77b5b80",
   "metadata": {},
   "source": [
    "# DNA translation Dr.X's DNA seqeunce for Penguins"
   ]
  },
  {
   "cell_type": "markdown",
   "id": "319ded1b",
   "metadata": {},
   "source": [
    "2. function that translates a string of nucleotides to amino aicds based Dr.X's pseudo-code suggestion\n",
    "\n",
    "Input:DNA seqeunce\n",
    "\n",
    "Output: Amino acid sequence"
   ]
  },
  {
   "cell_type": "code",
   "execution_count": 5,
   "id": "4b9ad9e8",
   "metadata": {},
   "outputs": [],
   "source": [
    "def translate_function(string_nucleotides):\n",
    "    # Get the codon table for Vertebrate Mitochondrial DNA\n",
    "    \n",
    "    mito_table = CodonTable.unambiguous_dna_by_name[\"Vertebrate Mitochondrial\"] #uses Biopython package\n",
    "    \n",
    "    aa_seq_string = \"\"  # to store the resulting amino acid sequence\n",
    "    \n",
    "    # Iterate over the string in steps of 3 to get codons\n",
    "    for i in range(0, len(string_nucleotides) - len(string_nucleotides) % 3, 3):\n",
    "        codon = string_nucleotides[i:i+3]  # extract a codon\n",
    "        if codon in mito_table.stop_codons:\n",
    "            # Check if the codon is a stop codon\n",
    "            continue  # skip the stop codon\n",
    "        aa = mito_table.forward_table[codon]  # get the corresponding amino acid\n",
    "        aa_seq_string += aa  # append the amino acid to the sequence\n",
    "    \n",
    "    return aa_seq_string\n",
    "\n",
    "# Example Usage\n",
    "#dna_sequence = \"ATGTTGACCCTGAAATAG\"  # example DNA sequence which includes a stop codon at the end (TAG)\n",
    "#protein_sequence = translate_function(dna_sequence)\n",
    "#print(protein_sequence)  # prints the translated protein sequence\n"
   ]
  },
  {
   "cell_type": "markdown",
   "id": "744bca97",
   "metadata": {},
   "source": [
    "# Alternative DNA translation"
   ]
  },
  {
   "cell_type": "markdown",
   "id": "f554b64d",
   "metadata": {},
   "source": [
    "3. Alternative translation for the DNA string"
   ]
  },
  {
   "cell_type": "code",
   "execution_count": 6,
   "id": "7ea7c36c",
   "metadata": {},
   "outputs": [],
   "source": [
    "def translate_to_protein(dna_string):\n",
    "    \"\"\"\n",
    "    Translates a DNA string into an amino acid sequence if the input is valid; otherwise, returns an error message.\n",
    "    \n",
    "    Parameters:\n",
    "    dna_string (str): A DNA sequence (only 'A', 'T', 'C', 'G' are valid).\n",
    "\n",
    "    Returns:\n",
    "    str: Amino acid sequence or error message.\n",
    "\n",
    "    Examples:\n",
    "        >>> translate_to_protein('GCGGCTTCATAGGAG')  # Returns 'AAS*E'\n",
    "        >>> translate_to_protein(123)                # Returns error for invalid type\n",
    "        >>> translate_to_protein('GCGGCTXCATAGGAG')  # Returns error for invalid characters\n",
    "    \"\"\"\n",
    "    # Validate input type and characters\n",
    "    \n",
    "    if not isinstance(dna_string, str) or any(char not in 'ATCG' for char in dna_string.upper()):\n",
    "        if not isinstance(dna_string, str):\n",
    "            return 'Error: Invalid input type, expected a string.'\n",
    "        else:\n",
    "            return 'Error: Input contains non-DNA characters.'\n",
    "\n",
    "    # Translate sequence to amino acids\n",
    "    aa_seq = Seq(dna_string).translate()\n",
    "    return str(aa_seq)\n",
    "\n",
    "# Example usage\n",
    "#print(translate_to_protein('GCGGCTTCATAGGAG'))  # Output: 'AAS*E'\n",
    "#print(translate_to_protein(123))  # Output: Error message\n",
    "#print(translate_to_protein('GCGGCTXCATAGGAG'))  # Output: Error message\n"
   ]
  },
  {
   "cell_type": "markdown",
   "id": "9b56929d",
   "metadata": {},
   "source": [
    "# GC content and Mw analysis function"
   ]
  },
  {
   "cell_type": "markdown",
   "id": "ed7ebe0b",
   "metadata": {},
   "source": [
    "4. the following is a function calculates the GC-content  and the molecular weight of DNA seqeuence and returns the value"
   ]
  },
  {
   "cell_type": "code",
   "execution_count": 7,
   "id": "95b3f8d9",
   "metadata": {},
   "outputs": [],
   "source": [
    "def calculate_gc_content(dna_seq):\n",
    "    \"\"\" Calculate the GC content of DNA sequence without using BioPython. \"\"\"\n",
    "    dna_seq = dna_seq.upper()\n",
    "    gc_count = sum(1 for base in dna_seq if base in ['G', 'C'])\n",
    "    try:\n",
    "        return (gc_count / len(dna_seq)) * 100\n",
    "    except ZeroDivisionError:  # Handle empty string case\n",
    "        return 0.0\n",
    "\n",
    "\n"
   ]
  },
  {
   "cell_type": "code",
   "execution_count": 8,
   "id": "a209b4e6",
   "metadata": {},
   "outputs": [],
   "source": [
    "def calculate_molecular_weight(aa_seq):\n",
    "    analysed_seq = ProteinAnalysis(aa_seq) #analyses amino acid sequence\n",
    "    mol_weight = analysed_seq.molecular_weight() #calculates molecular weight of the analysed sequence\n",
    "    return(mol_weight)"
   ]
  },
  {
   "cell_type": "code",
   "execution_count": 9,
   "id": "0d949863",
   "metadata": {},
   "outputs": [
    {
     "data": {
      "text/plain": [
       "100706.24799999999"
      ]
     },
     "execution_count": 9,
     "metadata": {},
     "output_type": "execute_result"
    }
   ],
   "source": [
    "cytb_seqs = get_sequences_from_file(\"penguins_cytb.fasta\")\n",
    "calculate_molecular_weight(cytb_seqs['Aptenodytes forsteri'])"
   ]
  },
  {
   "cell_type": "markdown",
   "id": "5bd50e7e",
   "metadata": {},
   "source": [
    "# MAIN"
   ]
  },
  {
   "cell_type": "code",
   "execution_count": 10,
   "id": "31ff6a38",
   "metadata": {},
   "outputs": [
    {
     "data": {
      "text/html": [
       "<div>\n",
       "<style scoped>\n",
       "    .dataframe tbody tr th:only-of-type {\n",
       "        vertical-align: middle;\n",
       "    }\n",
       "\n",
       "    .dataframe tbody tr th {\n",
       "        vertical-align: top;\n",
       "    }\n",
       "\n",
       "    .dataframe thead th {\n",
       "        text-align: right;\n",
       "    }\n",
       "</style>\n",
       "<table border=\"1\" class=\"dataframe\">\n",
       "  <thead>\n",
       "    <tr style=\"text-align: right;\">\n",
       "      <th></th>\n",
       "      <th>species</th>\n",
       "      <th>mass</th>\n",
       "    </tr>\n",
       "  </thead>\n",
       "  <tbody>\n",
       "    <tr>\n",
       "      <th>0</th>\n",
       "      <td>Aptenodytes forsteri</td>\n",
       "      <td>28.00</td>\n",
       "    </tr>\n",
       "    <tr>\n",
       "      <th>1</th>\n",
       "      <td>Aptenodytes patagonicus</td>\n",
       "      <td>13.40</td>\n",
       "    </tr>\n",
       "    <tr>\n",
       "      <th>2</th>\n",
       "      <td>Eudyptes chrysocome</td>\n",
       "      <td>2.80</td>\n",
       "    </tr>\n",
       "    <tr>\n",
       "      <th>3</th>\n",
       "      <td>Eudyptes chrysolophus</td>\n",
       "      <td>4.50</td>\n",
       "    </tr>\n",
       "    <tr>\n",
       "      <th>4</th>\n",
       "      <td>Eudyptes sclateri</td>\n",
       "      <td>4.25</td>\n",
       "    </tr>\n",
       "    <tr>\n",
       "      <th>5</th>\n",
       "      <td>Eudyptula minor</td>\n",
       "      <td>1.60</td>\n",
       "    </tr>\n",
       "    <tr>\n",
       "      <th>6</th>\n",
       "      <td>Pygoscelis adeliae</td>\n",
       "      <td>4.60</td>\n",
       "    </tr>\n",
       "    <tr>\n",
       "      <th>7</th>\n",
       "      <td>Pygoscelis antarctica</td>\n",
       "      <td>4.10</td>\n",
       "    </tr>\n",
       "    <tr>\n",
       "      <th>8</th>\n",
       "      <td>Pygoscelis papua</td>\n",
       "      <td>6.10</td>\n",
       "    </tr>\n",
       "    <tr>\n",
       "      <th>9</th>\n",
       "      <td>Spheniscus demersus</td>\n",
       "      <td>3.20</td>\n",
       "    </tr>\n",
       "    <tr>\n",
       "      <th>10</th>\n",
       "      <td>Spheniscus humboldti</td>\n",
       "      <td>4.75</td>\n",
       "    </tr>\n",
       "    <tr>\n",
       "      <th>11</th>\n",
       "      <td>Spheniscus magellanicus</td>\n",
       "      <td>3.40</td>\n",
       "    </tr>\n",
       "  </tbody>\n",
       "</table>\n",
       "</div>"
      ],
      "text/plain": [
       "                    species   mass\n",
       "0      Aptenodytes forsteri  28.00\n",
       "1   Aptenodytes patagonicus  13.40\n",
       "2       Eudyptes chrysocome   2.80\n",
       "3     Eudyptes chrysolophus   4.50\n",
       "4         Eudyptes sclateri   4.25\n",
       "5           Eudyptula minor   1.60\n",
       "6        Pygoscelis adeliae   4.60\n",
       "7     Pygoscelis antarctica   4.10\n",
       "8          Pygoscelis papua   6.10\n",
       "9       Spheniscus demersus   3.20\n",
       "10     Spheniscus humboldti   4.75\n",
       "11  Spheniscus magellanicus   3.40"
      ]
     },
     "execution_count": 10,
     "metadata": {},
     "output_type": "execute_result"
    }
   ],
   "source": [
    "cytb_seqs = get_sequences_from_file(\"penguins_cytb.fasta\") #import the fasta files and assign them to a dictionary\n",
    "\n",
    "penguins_df = pd.read_csv(\"penguins_mass.csv\") #read .csv file by creating pandas DataFrame, Includes only data for body mass \n",
    "species_list = list(penguins_df.species) #create species of penguin \n",
    "\n",
    "penguins_df #inspect the data frame"
   ]
  },
  {
   "cell_type": "markdown",
   "id": "fbfda14d",
   "metadata": {},
   "source": [
    "# Molecular weight and GC content for the Penguin"
   ]
  },
  {
   "cell_type": "markdown",
   "id": "8e8d4a4b",
   "metadata": {},
   "source": [
    "6. Dr. X: Add two new columns to the bears DataFrame: (1) molecular weight and (2) GC content Set the value to 'NaN' to indicate that these cells are currenlty empty"
   ]
  },
  {
   "cell_type": "code",
   "execution_count": 11,
   "id": "1be762b7",
   "metadata": {},
   "outputs": [
    {
     "data": {
      "text/html": [
       "<div>\n",
       "<style scoped>\n",
       "    .dataframe tbody tr th:only-of-type {\n",
       "        vertical-align: middle;\n",
       "    }\n",
       "\n",
       "    .dataframe tbody tr th {\n",
       "        vertical-align: top;\n",
       "    }\n",
       "\n",
       "    .dataframe thead th {\n",
       "        text-align: right;\n",
       "    }\n",
       "</style>\n",
       "<table border=\"1\" class=\"dataframe\">\n",
       "  <thead>\n",
       "    <tr style=\"text-align: right;\">\n",
       "      <th></th>\n",
       "      <th>species</th>\n",
       "      <th>mass</th>\n",
       "      <th>Mol Weight</th>\n",
       "      <th>GC content</th>\n",
       "    </tr>\n",
       "  </thead>\n",
       "  <tbody>\n",
       "    <tr>\n",
       "      <th>0</th>\n",
       "      <td>Aptenodytes forsteri</td>\n",
       "      <td>28.00</td>\n",
       "      <td>NaN</td>\n",
       "      <td>NaN</td>\n",
       "    </tr>\n",
       "    <tr>\n",
       "      <th>1</th>\n",
       "      <td>Aptenodytes patagonicus</td>\n",
       "      <td>13.40</td>\n",
       "      <td>NaN</td>\n",
       "      <td>NaN</td>\n",
       "    </tr>\n",
       "    <tr>\n",
       "      <th>2</th>\n",
       "      <td>Eudyptes chrysocome</td>\n",
       "      <td>2.80</td>\n",
       "      <td>NaN</td>\n",
       "      <td>NaN</td>\n",
       "    </tr>\n",
       "    <tr>\n",
       "      <th>3</th>\n",
       "      <td>Eudyptes chrysolophus</td>\n",
       "      <td>4.50</td>\n",
       "      <td>NaN</td>\n",
       "      <td>NaN</td>\n",
       "    </tr>\n",
       "    <tr>\n",
       "      <th>4</th>\n",
       "      <td>Eudyptes sclateri</td>\n",
       "      <td>4.25</td>\n",
       "      <td>NaN</td>\n",
       "      <td>NaN</td>\n",
       "    </tr>\n",
       "    <tr>\n",
       "      <th>5</th>\n",
       "      <td>Eudyptula minor</td>\n",
       "      <td>1.60</td>\n",
       "      <td>NaN</td>\n",
       "      <td>NaN</td>\n",
       "    </tr>\n",
       "    <tr>\n",
       "      <th>6</th>\n",
       "      <td>Pygoscelis adeliae</td>\n",
       "      <td>4.60</td>\n",
       "      <td>NaN</td>\n",
       "      <td>NaN</td>\n",
       "    </tr>\n",
       "    <tr>\n",
       "      <th>7</th>\n",
       "      <td>Pygoscelis antarctica</td>\n",
       "      <td>4.10</td>\n",
       "      <td>NaN</td>\n",
       "      <td>NaN</td>\n",
       "    </tr>\n",
       "    <tr>\n",
       "      <th>8</th>\n",
       "      <td>Pygoscelis papua</td>\n",
       "      <td>6.10</td>\n",
       "      <td>NaN</td>\n",
       "      <td>NaN</td>\n",
       "    </tr>\n",
       "    <tr>\n",
       "      <th>9</th>\n",
       "      <td>Spheniscus demersus</td>\n",
       "      <td>3.20</td>\n",
       "      <td>NaN</td>\n",
       "      <td>NaN</td>\n",
       "    </tr>\n",
       "    <tr>\n",
       "      <th>10</th>\n",
       "      <td>Spheniscus humboldti</td>\n",
       "      <td>4.75</td>\n",
       "      <td>NaN</td>\n",
       "      <td>NaN</td>\n",
       "    </tr>\n",
       "    <tr>\n",
       "      <th>11</th>\n",
       "      <td>Spheniscus magellanicus</td>\n",
       "      <td>3.40</td>\n",
       "      <td>NaN</td>\n",
       "      <td>NaN</td>\n",
       "    </tr>\n",
       "  </tbody>\n",
       "</table>\n",
       "</div>"
      ],
      "text/plain": [
       "                    species   mass Mol Weight GC content\n",
       "0      Aptenodytes forsteri  28.00        NaN        NaN\n",
       "1   Aptenodytes patagonicus  13.40        NaN        NaN\n",
       "2       Eudyptes chrysocome   2.80        NaN        NaN\n",
       "3     Eudyptes chrysolophus   4.50        NaN        NaN\n",
       "4         Eudyptes sclateri   4.25        NaN        NaN\n",
       "5           Eudyptula minor   1.60        NaN        NaN\n",
       "6        Pygoscelis adeliae   4.60        NaN        NaN\n",
       "7     Pygoscelis antarctica   4.10        NaN        NaN\n",
       "8          Pygoscelis papua   6.10        NaN        NaN\n",
       "9       Spheniscus demersus   3.20        NaN        NaN\n",
       "10     Spheniscus humboldti   4.75        NaN        NaN\n",
       "11  Spheniscus magellanicus   3.40        NaN        NaN"
      ]
     },
     "execution_count": 11,
     "metadata": {},
     "output_type": "execute_result"
    }
   ],
   "source": [
    "penguins_df['Mol Weight']='NaN' #creates and new coumn setting a common value to each element in the column\n",
    "penguins_df['GC content']= 'NaN'\n",
    "penguins_df"
   ]
  },
  {
   "cell_type": "markdown",
   "id": "bac1c6fd",
   "metadata": {},
   "source": [
    "# Translate neculotides"
   ]
  },
  {
   "cell_type": "markdown",
   "id": "6d5eee00",
   "metadata": {},
   "source": [
    "7. Wtite a for-loop that translate each seqeunce and also gets molecular weight and computes the GC content of each translated seqeunce and adds those data to DataFrame"
   ]
  },
  {
   "cell_type": "code",
   "execution_count": 12,
   "id": "a6a26c57",
   "metadata": {},
   "outputs": [
    {
     "data": {
      "text/plain": [
       "'MAPNLRKSHPLLKMINNSLIDLPTPSNISAWWNFGSLLGICLTTQILTGLLLAMHYTADTTLAFSSVAHTCRNVQYGWLIRNLHANGASFFFICIYLHIGRGFYYGSYLYKETWNTGIILLLTLMATAFVGYVLPWGQMSFWGATVITNLFSAIPYIGQTLVEWTWGGFSVDNPTLTRFFALHFLLPFMIAGLTLIHLTFLHESGSNNPLGIVANSDKIPFHPYYSTKDILGFALMLLPLTTLALFSPNLLGDPENFTPANPLVTPPHIKPEWYFLFAYAILRSIPNKLGGVLALAASVLILFLIPLLHKSKQRTMAFRPLSQLLFWALVANLIILTWVGSQPVEHPFIIIGQLASLTYFTTLLILFPIAGALENKMLNH'"
      ]
     },
     "execution_count": 12,
     "metadata": {},
     "output_type": "execute_result"
    }
   ],
   "source": [
    "cytb_seqs = get_sequences_from_file(\"penguins_cytb.fasta\")\n",
    "translate_function(cytb_seqs['Aptenodytes forsteri'])"
   ]
  },
  {
   "cell_type": "code",
   "execution_count": 13,
   "id": "28267599",
   "metadata": {},
   "outputs": [
    {
     "data": {
      "text/html": [
       "<div>\n",
       "<style scoped>\n",
       "    .dataframe tbody tr th:only-of-type {\n",
       "        vertical-align: middle;\n",
       "    }\n",
       "\n",
       "    .dataframe tbody tr th {\n",
       "        vertical-align: top;\n",
       "    }\n",
       "\n",
       "    .dataframe thead th {\n",
       "        text-align: right;\n",
       "    }\n",
       "</style>\n",
       "<table border=\"1\" class=\"dataframe\">\n",
       "  <thead>\n",
       "    <tr style=\"text-align: right;\">\n",
       "      <th></th>\n",
       "      <th>species</th>\n",
       "      <th>mass</th>\n",
       "      <th>Mol Weight</th>\n",
       "      <th>GC content</th>\n",
       "    </tr>\n",
       "  </thead>\n",
       "  <tbody>\n",
       "    <tr>\n",
       "      <th>0</th>\n",
       "      <td>Aptenodytes forsteri</td>\n",
       "      <td>28.00</td>\n",
       "      <td>42459.6021</td>\n",
       "      <td>48.381452</td>\n",
       "    </tr>\n",
       "    <tr>\n",
       "      <th>1</th>\n",
       "      <td>Aptenodytes patagonicus</td>\n",
       "      <td>13.40</td>\n",
       "      <td>42563.7067</td>\n",
       "      <td>49.693788</td>\n",
       "    </tr>\n",
       "    <tr>\n",
       "      <th>2</th>\n",
       "      <td>Eudyptes chrysocome</td>\n",
       "      <td>2.80</td>\n",
       "      <td>42475.5753</td>\n",
       "      <td>51.181102</td>\n",
       "    </tr>\n",
       "    <tr>\n",
       "      <th>3</th>\n",
       "      <td>Eudyptes chrysolophus</td>\n",
       "      <td>4.50</td>\n",
       "      <td>42445.5493</td>\n",
       "      <td>50.918635</td>\n",
       "    </tr>\n",
       "    <tr>\n",
       "      <th>4</th>\n",
       "      <td>Eudyptes sclateri</td>\n",
       "      <td>4.25</td>\n",
       "      <td>42475.5753</td>\n",
       "      <td>50.831146</td>\n",
       "    </tr>\n",
       "    <tr>\n",
       "      <th>5</th>\n",
       "      <td>Eudyptula minor</td>\n",
       "      <td>1.60</td>\n",
       "      <td>42491.6408</td>\n",
       "      <td>49.256343</td>\n",
       "    </tr>\n",
       "    <tr>\n",
       "      <th>6</th>\n",
       "      <td>Pygoscelis adeliae</td>\n",
       "      <td>4.60</td>\n",
       "      <td>42458.614</td>\n",
       "      <td>49.081365</td>\n",
       "    </tr>\n",
       "    <tr>\n",
       "      <th>7</th>\n",
       "      <td>Pygoscelis antarctica</td>\n",
       "      <td>4.10</td>\n",
       "      <td>42404.5423</td>\n",
       "      <td>47.769029</td>\n",
       "    </tr>\n",
       "    <tr>\n",
       "      <th>8</th>\n",
       "      <td>Pygoscelis papua</td>\n",
       "      <td>6.10</td>\n",
       "      <td>42595.8759</td>\n",
       "      <td>47.156605</td>\n",
       "    </tr>\n",
       "    <tr>\n",
       "      <th>9</th>\n",
       "      <td>Spheniscus demersus</td>\n",
       "      <td>3.20</td>\n",
       "      <td>42431.549</td>\n",
       "      <td>48.293963</td>\n",
       "    </tr>\n",
       "    <tr>\n",
       "      <th>10</th>\n",
       "      <td>Spheniscus humboldti</td>\n",
       "      <td>4.75</td>\n",
       "      <td>42399.552</td>\n",
       "      <td>49.256343</td>\n",
       "    </tr>\n",
       "    <tr>\n",
       "      <th>11</th>\n",
       "      <td>Spheniscus magellanicus</td>\n",
       "      <td>3.40</td>\n",
       "      <td>42459.6021</td>\n",
       "      <td>48.206474</td>\n",
       "    </tr>\n",
       "  </tbody>\n",
       "</table>\n",
       "</div>"
      ],
      "text/plain": [
       "                    species   mass  Mol Weight GC content\n",
       "0      Aptenodytes forsteri  28.00  42459.6021  48.381452\n",
       "1   Aptenodytes patagonicus  13.40  42563.7067  49.693788\n",
       "2       Eudyptes chrysocome   2.80  42475.5753  51.181102\n",
       "3     Eudyptes chrysolophus   4.50  42445.5493  50.918635\n",
       "4         Eudyptes sclateri   4.25  42475.5753  50.831146\n",
       "5           Eudyptula minor   1.60  42491.6408  49.256343\n",
       "6        Pygoscelis adeliae   4.60   42458.614  49.081365\n",
       "7     Pygoscelis antarctica   4.10  42404.5423  47.769029\n",
       "8          Pygoscelis papua   6.10  42595.8759  47.156605\n",
       "9       Spheniscus demersus   3.20   42431.549  48.293963\n",
       "10     Spheniscus humboldti   4.75   42399.552  49.256343\n",
       "11  Spheniscus magellanicus   3.40  42459.6021  48.206474"
      ]
     },
     "execution_count": 13,
     "metadata": {},
     "output_type": "execute_result"
    }
   ],
   "source": [
    "#from Bio.SeqUtils import GC as calculate_gc_content\n",
    "for key, value in cytb_seqs.items():\n",
    "    aa_seq = translate_function(value) #translate dna sequence into amino acid sequence\n",
    "#     aa_seq_string = str(aa_seq) #making the aa_seq into a string\n",
    "    mol_weight = calculate_molecular_weight(aa_seq) #calculates molecular weight of amino acids\n",
    "    GC_string = str(value) #making the dna sequence into a string\n",
    "    gc_content = calculate_gc_content(GC_string)#computes the calculate_gc_content function\n",
    "    penguins_df.at[penguins_df.loc[penguins_df.species == key,'Mol Weight'].index[0], \"Mol Weight\"] = mol_weight #inserting the molecular weight into datafram\n",
    "    penguins_df.at[penguins_df.loc[penguins_df.species == key,'GC content'].index[0], \"GC content\"] = gc_content #inserting GC content into dataframe\n",
    "    \n",
    "penguins_df"
   ]
  },
  {
   "cell_type": "code",
   "execution_count": 15,
   "id": "027527c7",
   "metadata": {},
   "outputs": [],
   "source": [
    "penguins_df.to_csv('penguins_df_copy.csv', index=False)"
   ]
  },
  {
   "cell_type": "markdown",
   "id": "c51c3116",
   "metadata": {},
   "source": [
    "8. Plot a bar-chart of the mass with the x-axes labeled with species names.\n",
    " *Q1* What is the smallest penguin species? \n",
    " *Q2* What is the geographical range of this species?"
   ]
  },
  {
   "cell_type": "code",
   "execution_count": 16,
   "id": "88f2fbf8",
   "metadata": {},
   "outputs": [
    {
     "data": {
      "image/png": "[encoded data removed]",
      "text/plain": [
       "<Figure size 640x480 with 1 Axes>"
      ]
     },
     "metadata": {},
     "output_type": "display_data"
    }
   ],
   "source": [
    "import numpy as np\n",
    "import matplotlib.pyplot as plt\n",
    "#plot a bar\n",
    "penguins_mass =penguins_df.plot.bar(x = 'species', y = 'mass', title = \"Mass of Penguins\", ylabel = \"Mass\")"
   ]
  },
  {
   "cell_type": "markdown",
   "id": "fb72f312",
   "metadata": {},
   "source": [
    "The smallest penguin  is Eudyptula minor\n",
    " they are found in the southern coast of Australia and as far as nort as the south solitary island of the coast of new south wales"
   ]
  },
  {
   "cell_type": "markdown",
   "id": "9bec609d",
   "metadata": {},
   "source": [
    "9.  Plot a visualization of the molecular weight (y-axis) as a function of GC-content (x-axis)."
   ]
  },
  {
   "cell_type": "code",
   "execution_count": 17,
   "id": "33077f0a",
   "metadata": {},
   "outputs": [
    {
     "data": {
      "image/png": "[encoded data removed]",
      "text/plain": [
       "<Figure size 640x480 with 1 Axes>"
      ]
     },
     "metadata": {},
     "output_type": "display_data"
    }
   ],
   "source": [
    "# plot 'GC content' on the x-axis and 'Mol Weight' on the y-axis\n",
    "\n",
    "# Create a scatter plot\n",
    "sns.scatterplot(x = \"GC content\", y = \"Mol Weight\", data = penguins_df, s = 100, hue = \"species\")\n",
    "\n",
    "# Adding title and labels\n",
    "plt.title('Molecular Weight as a Function of GC-content')\n",
    "plt.xlabel('GC-content (%)')\n",
    "plt.ylabel('Molecular Weight (g/mol)')\n",
    "plt.legend(bbox_to_anchor=(1.01, 1),\n",
    "           borderaxespad=0)\n",
    "\n",
    "# Show the plot\n",
    "plt.show()\n"
   ]
  },
  {
   "cell_type": "markdown",
   "id": "bb773109",
   "metadata": {},
   "source": [
    "10. Save the new DataFrame to a file called \"penguins_mass_cytb.csv\""
   ]
  },
  {
   "cell_type": "code",
   "execution_count": 18,
   "id": "980aab03",
   "metadata": {},
   "outputs": [],
   "source": [
    "#print (penguins_df)\n",
    "\n",
    "#saving the data frame in to a CSV file\n",
    "penguins_df.to_csv('penguins_mass_cytb.csv', index=False)\n",
    "#penguins_mass"
   ]
  },
  {
   "cell_type": "markdown",
   "id": "d78ac77c",
   "metadata": {},
   "source": []
  },
  {
   "cell_type": "code",
   "execution_count": null,
   "id": "b6422e8b",
   "metadata": {},
   "outputs": [],
   "source": []
  },
  {
   "cell_type": "code",
   "execution_count": null,
   "id": "5e3b17ea",
   "metadata": {},
   "outputs": [],
   "source": []
  }
 ],
 "metadata": {
  "kernelspec": {
   "display_name": "Python3_intro",
   "language": "python",
   "name": "notebook"
  },
  "language_info": {
   "codemirror_mode": {
    "name": "ipython",
    "version": 3
   },
   "file_extension": ".py",
   "mimetype": "text/x-python",
   "name": "python",
   "nbconvert_exporter": "python",
   "pygments_lexer": "ipython3",
   "version": "3.12.2"
  }
 },
 "nbformat": 4,
 "nbformat_minor": 5
}
